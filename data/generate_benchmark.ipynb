{
 "cells": [
  {
   "cell_type": "code",
   "execution_count": 5,
   "id": "3b74b0ba",
   "metadata": {},
   "outputs": [],
   "source": [
    "import glob\n",
    "import os\n",
    "import torch\n",
    "import random\n",
    "import shutil\n",
    "\n",
    "random.seed(1234)\n",
    "\n",
    "from pathlib import PurePath\n",
    "from speechbrain.pretrained import EncoderDecoderASR\n",
    "\n",
    "device = torch.device('cuda' if torch.cuda.is_available() else 'cpu')\n",
    "path = 'data/test-clean/'\n",
    "\n",
    "asr = EncoderDecoderASR.from_hparams(\n",
    "            source = \"speechbrain/asr-transformer-transformerlm-librispeech\", \n",
    "            savedir=\"data/pretrained_models/asr-transformer-transformerlm-librispeech\",\n",
    "            run_opts = {\"device\": str(device)},\n",
    "            freeze_params = True\n",
    "        )"
   ]
  },
  {
   "cell_type": "code",
   "execution_count": 6,
   "id": "63fc62c2",
   "metadata": {},
   "outputs": [],
   "source": [
    "flac_files = glob.glob(os.path.join(path, \"**/*.flac\"),\n",
    "                    recursive=True)\n",
    "text_files = glob.glob(os.path.join(path, \"**/*.txt\"),\n",
    "                    recursive=True)\n",
    "\n",
    "samples = []\n",
    "\n",
    "for txtf in text_files:\n",
    "    with open(txtf, \"r\") as f:\n",
    "        lines = f.readlines()\n",
    "    for l in lines:\n",
    "        l = l.upper().strip(\"\\n\")\n",
    "        utt_id = l.split(\" \")[0]\n",
    "        words = l.split(\" \")[1:]\n",
    "        samples.append((utt_id, words))"
   ]
  },
  {
   "cell_type": "code",
   "execution_count": 7,
   "id": "16e93127",
   "metadata": {},
   "outputs": [],
   "source": [
    "filtered = dict([(utt_id,  \" \".join(w)) for (utt_id, w) in samples  if len(w) >= 5 and len(w) <= 10])"
   ]
  },
  {
   "cell_type": "code",
   "execution_count": 8,
   "id": "eb74637a",
   "metadata": {},
   "outputs": [],
   "source": [
    "sample_audios = {}\n",
    "\n",
    "for file_path in flac_files:\n",
    "    file = file_path.split(\"/\")[-1]\n",
    "    utt_id = file.split(\".\")[0]\n",
    "    \n",
    "    if utt_id not in filtered.keys():\n",
    "        continue\n",
    "        \n",
    "    output = asr.transcribe_file(file_path)\n",
    "    if output == filtered[utt_id]:\n",
    "        sample_audios[utt_id] = file_path"
   ]
  },
  {
   "cell_type": "code",
   "execution_count": 9,
   "id": "a549b319",
   "metadata": {},
   "outputs": [],
   "source": [
    "random_subset = random.sample(sample_audios.keys(), 100)\n",
    "benchmark = {x: sample_audios[x] for x in random_subset}"
   ]
  },
  {
   "cell_type": "code",
   "execution_count": 11,
   "id": "66abf0be",
   "metadata": {},
   "outputs": [],
   "source": [
    "! mkdir data/benchmark"
   ]
  },
  {
   "cell_type": "code",
   "execution_count": 12,
   "id": "8c767574",
   "metadata": {
    "scrolled": true
   },
   "outputs": [],
   "source": [
    "f = open(\"data/benchmark.txt\", \"w\")\n",
    "for k in benchmark:\n",
    "    shutil.copy(benchmark[k], 'data/benchmark')\n",
    "    f.write(k + '\\n')\n",
    "f.close()"
   ]
  }
 ],
 "metadata": {
  "kernelspec": {
   "display_name": "Python 3 (ipykernel)",
   "language": "python",
   "name": "python3"
  },
  "language_info": {
   "codemirror_mode": {
    "name": "ipython",
    "version": 3
   },
   "file_extension": ".py",
   "mimetype": "text/x-python",
   "name": "python",
   "nbconvert_exporter": "python",
   "pygments_lexer": "ipython3",
   "version": "3.8.10"
  }
 },
 "nbformat": 4,
 "nbformat_minor": 5
}
